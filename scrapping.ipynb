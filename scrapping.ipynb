{
 "cells": [
  {
   "cell_type": "code",
   "execution_count": 7,
   "metadata": {},
   "outputs": [
    {
     "name": "stdout",
     "output_type": "stream",
     "text": [
      "Requirement already satisfied: requests in c:\\users\\theoc\\anaconda3\\lib\\site-packages (2.25.1)\n",
      "Requirement already satisfied: urllib3<1.27,>=1.21.1 in c:\\users\\theoc\\anaconda3\\lib\\site-packages (from requests) (1.26.2)\n",
      "Requirement already satisfied: chardet<5,>=3.0.2 in c:\\users\\theoc\\anaconda3\\lib\\site-packages (from requests) (4.0.0)\n",
      "Requirement already satisfied: certifi>=2017.4.17 in c:\\users\\theoc\\anaconda3\\lib\\site-packages (from requests) (2020.12.5)\n",
      "Requirement already satisfied: idna<3,>=2.5 in c:\\users\\theoc\\anaconda3\\lib\\site-packages (from requests) (2.10)\n",
      "Requirement already satisfied: Beautifulsoup4 in c:\\users\\theoc\\anaconda3\\lib\\site-packages (4.9.3)\n",
      "Requirement already satisfied: soupsieve>1.2 in c:\\users\\theoc\\anaconda3\\lib\\site-packages (from Beautifulsoup4) (2.1)\n"
     ]
    }
   ],
   "source": [
    "#!pip install requests\n",
    "#!pip3 install Beautifulsoup4"
   ]
  },
  {
   "cell_type": "code",
   "execution_count": 20,
   "metadata": {},
   "outputs": [],
   "source": [
    "import requests\n",
    "from bs4 import BeautifulSoup\n",
    "from math import *\n",
    "import re\n",
    "import numpy as np\n",
    "import time"
   ]
  },
  {
   "cell_type": "code",
   "execution_count": 2,
   "metadata": {},
   "outputs": [],
   "source": [
    "URL = 'https://www.airlinequality.com/review-pages/a-z-airline-reviews/'\n",
    "page = requests.get(URL)\n",
    "soup = BeautifulSoup(page.content, 'html.parser')"
   ]
  },
  {
   "cell_type": "code",
   "execution_count": 3,
   "metadata": {},
   "outputs": [],
   "source": [
    "tabs_content = soup.find('div', class_=\"tabs-content\")\n",
    "airlines_tag = tabs_content.find_all('li')"
   ]
  },
  {
   "cell_type": "code",
   "execution_count": 6,
   "metadata": {},
   "outputs": [],
   "source": [
    "#collect the different urls for each airline company\n",
    "airlines_ref=[]\n",
    "for element in airlines_tag :\n",
    "    tag = element.find('a')\n",
    "    airlines_ref.append(tag['href'])\n",
    "    "
   ]
  },
  {
   "cell_type": "code",
   "execution_count": 10,
   "metadata": {},
   "outputs": [],
   "source": [
    "test = ['/airline-reviews/ab-aviation','/airline-reviews/air-france']"
   ]
  },
  {
   "cell_type": "code",
   "execution_count": 34,
   "metadata": {},
   "outputs": [
    {
     "data": {
      "text/plain": [
       "[{'airline': ['https://www.airlinequality.com/airline-reviews/ab-aviation/?sortby=post_date%3ADesc&pagesize=100'],\n",
       "  'seats': []},\n",
       " {'airline': ['https://www.airlinequality.com/airline-reviews/air-france/page/1/?sortby=post_date%3ADesc&pagesize=100',\n",
       "   'https://www.airlinequality.com/airline-reviews/air-france/page/2/?sortby=post_date%3ADesc&pagesize=100',\n",
       "   'https://www.airlinequality.com/airline-reviews/air-france/page/3/?sortby=post_date%3ADesc&pagesize=100',\n",
       "   'https://www.airlinequality.com/airline-reviews/air-france/page/4/?sortby=post_date%3ADesc&pagesize=100',\n",
       "   'https://www.airlinequality.com/airline-reviews/air-france/page/5/?sortby=post_date%3ADesc&pagesize=100',\n",
       "   'https://www.airlinequality.com/airline-reviews/air-france/page/6/?sortby=post_date%3ADesc&pagesize=100',\n",
       "   'https://www.airlinequality.com/airline-reviews/air-france/page/7/?sortby=post_date%3ADesc&pagesize=100',\n",
       "   'https://www.airlinequality.com/airline-reviews/air-france/page/8/?sortby=post_date%3ADesc&pagesize=100',\n",
       "   'https://www.airlinequality.com/airline-reviews/air-france/page/9/?sortby=post_date%3ADesc&pagesize=100',\n",
       "   'https://www.airlinequality.com/airline-reviews/air-france/page/10/?sortby=post_date%3ADesc&pagesize=100',\n",
       "   'https://www.airlinequality.com/airline-reviews/air-france/page/11/?sortby=post_date%3ADesc&pagesize=100'],\n",
       "  'seats': ['https://www.airlinequality.com/seat-reviews/air-france/page/1/?sortby=post_date%3ADesc&pagesize=100',\n",
       "   'https://www.airlinequality.com/seat-reviews/air-france/page/2/?sortby=post_date%3ADesc&pagesize=100']}]"
      ]
     },
     "execution_count": 34,
     "metadata": {},
     "output_type": "execute_result"
    }
   ],
   "source": [
    "def get_url_airline(airlines):\n",
    "    \n",
    "    \"\"\"\n",
    "    Returns the sum of two decimal numbers in binary digits.\n",
    "\n",
    "    Parameters\n",
    "    ----------\n",
    "    airlines (list): A list of airlines reference needed, ex : '/airline-reviews/ab-aviation'\n",
    "\n",
    "    Returns\n",
    "    -------\n",
    "    A list of all url reviews linked to the companies needed   \n",
    "    \"\"\"\n",
    "    \n",
    "    URL = 'https://www.airlinequality.com'\n",
    "    \n",
    "    total_url=[]\n",
    "    \n",
    "    for airline in airlines :\n",
    "        \n",
    "        url_company ={'airline':[], 'seats':[]} #\n",
    "        url = URL + airline\n",
    "        page = requests.get(url)\n",
    "        time.sleep(1)\n",
    "        soup = BeautifulSoup(page.content, 'html.parser')\n",
    "        \n",
    "        #Test if onglet seat and airline\n",
    "        seat_content = soup.find('li', class_=[\"tab-title seat\",\"tab-title seat active\"])\n",
    "        airline_content = soup.find('li', class_=[\"tab-title airline\",\"tab-title airline active\"])\n",
    "        \n",
    "        if not(airline_content == None):\n",
    "            ref_airline = airline_content.find('a')['href']\n",
    "            new_url = URL + ref_airline + '/?sortby=post_date%3ADesc&pagesize=100'\n",
    "            new_page = requests.get(new_url)\n",
    "            #time.sleep(1)\n",
    "            new_soup = BeautifulSoup(new_page.content, 'html.parser')\n",
    "            \n",
    "            test_page=new_soup.find(\n",
    "                    'article',class_=\"comp comp_reviews-pagination querylist-pagination position-\")\n",
    "            \n",
    "            airline_url = []\n",
    "            if not(test_page == None):\n",
    "                query_page = new_soup.find('div', class_='pagination-total').get_text()\n",
    "                \n",
    "                if not(query_page ==None):\n",
    "                    number_review = int(query_page.split(\" \")[-2])\n",
    "                    number_page = ceil(number_review/100)\n",
    "\n",
    "                    for i in range(number_page) :\n",
    "                        url = URL + ref_airline + '/page/'+ str(i+1) + '/?sortby=post_date%3ADesc&pagesize=100'\n",
    "                        if url not in airline_url:\n",
    "                            airline_url.append(url)\n",
    "                        \n",
    "            else : airline_url.append(new_url) #only one page\n",
    "        \n",
    "            url_company['airline']=airline_url\n",
    "\n",
    "        if not(seat_content == None):\n",
    "            ref_seat = seat_content.find('a')['href']\n",
    "            new_url = URL + ref_seat + '/?sortby=post_date%3ADesc&pagesize=100'\n",
    "            new_page = requests.get(new_url)\n",
    "            #time.sleep(1)\n",
    "            new_soup = BeautifulSoup(new_page.content, 'html.parser')\n",
    "            \n",
    "            test_page=new_soup.find(\n",
    "                    'article',class_=\"comp comp_reviews-pagination querylist-pagination position-\")\n",
    "            \n",
    "            seat_url = []\n",
    "            if not(test_page == None):\n",
    "                query_page = new_soup.find('div', class_='pagination-total').get_text()\n",
    "                \n",
    "                if not(query_page ==None):\n",
    "                    number_review = int(query_page.split(\" \")[-2])\n",
    "                    number_page = ceil(number_review/100)\n",
    "\n",
    "                    for i in range(number_page) :\n",
    "                        url = URL + ref_seat + '/page/'+ str(i+1) + '/?sortby=post_date%3ADesc&pagesize=100'\n",
    "                        if url not in seat_url:\n",
    "                            seat_url.append(url)\n",
    "                        \n",
    "            else : seat_url.append(new_url) # only one page\n",
    "                \n",
    "            url_company['seats']=seat_url\n",
    "            \n",
    "        total_url.append(url_company)\n",
    "    return total_url\n",
    "\n",
    "get_url_airline(test)"
   ]
  },
  {
   "cell_type": "code",
   "execution_count": 59,
   "metadata": {},
   "outputs": [],
   "source": [
    "def generate_page_reviews(URL):\n",
    "    # Get page content\n",
    "    page = requests.get(URL)\n",
    "    # Wait for 5 seconds\n",
    "    #time.sleep(1)\n",
    "    soup = BeautifulSoup(page.content, 'html.parser')\n",
    "    # Get the list of reviews in the page\n",
    "    reviews = soup.find_all('article', itemprop='review')\n",
    "    \n",
    "    dates_published = [] # Get list of publication dates\n",
    "    global_ratings = [] # Get list of global ratings\n",
    "    reviews_titles = [] # Get reviews' titles\n",
    "    customers_countries = [] # Get country of customers\n",
    "    reviews_body = [] # Get reviews' bodies\n",
    "    is_verified = [] # Get boolean variable verified\n",
    "    aircraft = []\n",
    "    type_traveller = []\n",
    "    seat_type = []\n",
    "    route = []\n",
    "    date_flown = []\n",
    "    is_recommended = []\n",
    "    for i, review in enumerate(reviews):\n",
    "        dates_published.append(review.find('meta', itemprop='datePublished')['content'])\n",
    "        \n",
    "        global_ratings.append(review.find('span', itemprop='ratingValue').text)\n",
    "        \n",
    "        reviews_titles.append(review.find('h2', class_='text_header').text.strip())\n",
    "                              \n",
    "        temp = review.find('h3', class_='text_sub_header userStatusWrapper').text\n",
    "        country = re.search('\\((.*)\\)', temp)\n",
    "        if country is not None:\n",
    "            customers_countries.append(country.group(1))\n",
    "        \n",
    "        if review.find('div', class_='text_content').find('em') is not None :# == 'Trip Verified':\n",
    "            is_verified.append(True)\n",
    "            review_body = review.find('div', class_='text_content').text.split(\"|\",1)[1][2:] \n",
    "        else:\n",
    "            is_verified.append(False)\n",
    "            review_body = review.find('div', class_='text_content').text\n",
    "            \n",
    "        reviews_body.append(review_body)\n",
    "            \n",
    "        review_ratings = review.find_all('tr')\n",
    "        for rating in review_ratings:\n",
    "            # Aircraft\n",
    "            if rating.find('td', class_='review-rating-header aircraft') is not None:\n",
    "                aircraft.append(rating.find('td', class_='review-value').text)\n",
    "            # Traveller type\n",
    "            if rating.find('td', class_='review-rating-header type_of_traveller') is not None:\n",
    "                type_traveller.append(rating.find('td', class_='review-value').text)\n",
    "            # Seat type\n",
    "            if rating.find('td', class_='review-rating-header cabin_flown') is not None:\n",
    "                seat_type.append(rating.find('td', class_='review-value').text)\n",
    "            # Route\n",
    "            if rating.find('td', class_='review-rating-header route') is not None:\n",
    "                route.append(rating.find('td', class_='review-value').text)\n",
    "            # Date flown\n",
    "            if rating.find('td', class_='review-rating-header date_flown') is not None\\\n",
    "            and len(rating.find('td', class_='review-value').text) == 10:\n",
    "                date_flown.append(rating.find('td', class_='review-value').text)\n",
    "            '''# Seat comfort\n",
    "            if rating.find('td', class_='review-rating-header seat_comfort') is not None:\n",
    "                seat_comfort.append(rating.find('td', class_='review-value').text)\n",
    "            # Cabin staff service\n",
    "            if rating.find('td', class_='review-rating-header cabin_staff_service') is not None:\n",
    "                cabin_staff_service.append(rating.find('td', class_='review-value').text)\n",
    "            # Food and beverages\n",
    "            if rating.find('td', class_='review-rating-header food_and_beverages') is not None:\n",
    "                food_beverages.append(rating.find('td', class_='review-value').text)'''\n",
    "            # Is recommended\n",
    "            if rating.find('td', class_='review-rating-header recommended') is not None:\n",
    "                temp = rating.find_all('td')[1].text\n",
    "                if temp == \"yes\": \n",
    "                    is_recommended.append(True)\n",
    "                else: \n",
    "                    is_recommended.append(False)\n",
    "\n",
    "        if len(dates_published) != i+1: dates_published.append(None)\n",
    "        if len(global_ratings) != i+1: global_ratings.append(None)\n",
    "        if len(reviews_titles) != i+1: reviews_titles.append(None)\n",
    "        if len(customers_countries) != i+1: customers_countries.append(None)\n",
    "        if len(reviews_body) != i+1: reviews_body.append(\"\")\n",
    "        if len(is_verified) != i+1: is_verified.append(None)\n",
    "        if len(aircraft) != i+1: aircraft.append(None)\n",
    "        if len(type_traveller) != i+1: type_traveller.append(None)\n",
    "        if len(seat_type) != i+1: seat_type.append(None)\n",
    "        if len(route) != i+1: route.append(None)\n",
    "        if len(date_flown) != i+1: date_flown.append(None)\n",
    "        if len(is_recommended) != i+1: is_recommended.append(None)\n",
    "            \n",
    "    return np.array([dates_published,\n",
    "                    global_ratings,\n",
    "                    reviews_titles,\n",
    "                    customers_countries,\n",
    "                    reviews_body,\n",
    "                    is_verified,\n",
    "                    aircraft,\n",
    "                    type_traveller,\n",
    "                    seat_type,\n",
    "                    route,\n",
    "                    date_flown,\n",
    "                    is_recommended]).transpose()\n",
    "    "
   ]
  },
  {
   "cell_type": "code",
   "execution_count": 8,
   "metadata": {},
   "outputs": [
    {
     "data": {
      "text/plain": [
       "array([['2019-11-11', '9', 'pretty decent airline', 'Netherlands',\n",
       "        \"Moroni to Moheli. Turned out to be a pretty decent airline. Online booking worked well, checkin and boarding was fine and the plane looked well maintained. Its a very short flight - just 20 minutes or so so i didn't expect much but they still managed to hand our a bottle of water and some biscuits which i though was very nice. Both flights on time.\",\n",
       "        True, None, 'Solo Leisure', 'Economy Class', 'Moroni to Moheli',\n",
       "        'November 2019', True],\n",
       "       ['2019-06-25', '1', 'Not a good airline', 'United Kingdom',\n",
       "        'oroni to Anjouan. It is a very small airline. My ticket advised me to turn up at 0800hrs which I did. There was confusion at this small airport. I was then directed to the office of AB Aviation which was still closed. It opened at 0900hrs and I was told that the flight had been put back to 1300hrs and that they had tried to contact me. This could not be true as they did not have my phone number. I was with a local guide and he had not been informed either. I presume that I was bumped off. The later flight did operate but as usual, there was confusion at check-in. The flight was only 30mins and there were no further problems. Not a good airline but it is the only one for Comoros.',\n",
       "        True, 'E120', 'Solo Leisure', 'Economy Class',\n",
       "        'Moroni to Anjouan', 'June 2019', False],\n",
       "       ['2019-06-25', '1', 'flight was fortunately short',\n",
       "        'United Kingdom',\n",
       "        'Anjouan to Dzaoudzi. A very small airline and the only airline based in Comoros. Check-in was disorganised because of locals with big packages and disinterested staff. The flight was fortunately short (30 mins). Took off on time and landed on time. With a short flight like there was of course no in-flight entertainment nor cabin service except for biscuits and a bottle of water, which was quite nice!',\n",
       "        True, 'Embraer E120 ', 'Solo Leisure', 'Economy Class',\n",
       "        'Anjouan to Dzaoudzi', 'June 2019', False]], dtype=object)"
      ]
     },
     "execution_count": 8,
     "metadata": {},
     "output_type": "execute_result"
    }
   ],
   "source": [
    "generate_page_reviews('https://www.airlinequality.com/airline-reviews/ab-aviation/?sortby=post_date%3ADesc&pagesize=100')"
   ]
  },
  {
   "cell_type": "code",
   "execution_count": 18,
   "metadata": {},
   "outputs": [
    {
     "ename": "TypeError",
     "evalue": "array() missing required argument 'object' (pos 1)",
     "output_type": "error",
     "traceback": [
      "\u001b[1;31m---------------------------------------------------------------------------\u001b[0m",
      "\u001b[1;31mTypeError\u001b[0m                                 Traceback (most recent call last)",
      "\u001b[1;32m<ipython-input-18-34e030f58ee4>\u001b[0m in \u001b[0;36m<module>\u001b[1;34m\u001b[0m\n\u001b[0;32m      1\u001b[0m \u001b[0ma\u001b[0m \u001b[1;33m=\u001b[0m \u001b[0mnp\u001b[0m\u001b[1;33m.\u001b[0m\u001b[0marray\u001b[0m\u001b[1;33m(\u001b[0m\u001b[1;33m[\u001b[0m\u001b[1;33m[\u001b[0m\u001b[1;36m1\u001b[0m\u001b[1;33m,\u001b[0m\u001b[1;36m2\u001b[0m\u001b[1;33m]\u001b[0m\u001b[1;33m,\u001b[0m\u001b[1;33m[\u001b[0m\u001b[1;36m3\u001b[0m\u001b[1;33m,\u001b[0m\u001b[1;36m4\u001b[0m\u001b[1;33m]\u001b[0m\u001b[1;33m]\u001b[0m\u001b[1;33m)\u001b[0m\u001b[1;33m\u001b[0m\u001b[1;33m\u001b[0m\u001b[0m\n\u001b[0;32m      2\u001b[0m \u001b[0mb\u001b[0m \u001b[1;33m=\u001b[0m \u001b[0mnp\u001b[0m\u001b[1;33m.\u001b[0m\u001b[0marray\u001b[0m\u001b[1;33m(\u001b[0m\u001b[1;33m[\u001b[0m\u001b[1;33m[\u001b[0m\u001b[1;36m5\u001b[0m\u001b[1;33m,\u001b[0m\u001b[1;36m6\u001b[0m\u001b[1;33m]\u001b[0m\u001b[1;33m]\u001b[0m\u001b[1;33m)\u001b[0m\u001b[1;33m.\u001b[0m\u001b[0mtranspose\u001b[0m\u001b[1;33m(\u001b[0m\u001b[1;33m)\u001b[0m\u001b[1;33m\u001b[0m\u001b[1;33m\u001b[0m\u001b[0m\n\u001b[1;32m----> 3\u001b[1;33m \u001b[0mc\u001b[0m\u001b[1;33m=\u001b[0m\u001b[0mnp\u001b[0m\u001b[1;33m.\u001b[0m\u001b[0marray\u001b[0m\u001b[1;33m(\u001b[0m\u001b[0msize\u001b[0m\u001b[1;33m=\u001b[0m\u001b[1;33m(\u001b[0m\u001b[1;36m1\u001b[0m\u001b[1;33m,\u001b[0m\u001b[1;36m2\u001b[0m\u001b[1;33m)\u001b[0m\u001b[1;33m)\u001b[0m\u001b[1;33m\u001b[0m\u001b[1;33m\u001b[0m\u001b[0m\n\u001b[0m\u001b[0;32m      4\u001b[0m \u001b[0mnp\u001b[0m\u001b[1;33m.\u001b[0m\u001b[0mconcatenate\u001b[0m\u001b[1;33m(\u001b[0m\u001b[1;33m(\u001b[0m\u001b[1;32mNone\u001b[0m\u001b[1;33m,\u001b[0m\u001b[0ma\u001b[0m\u001b[1;33m,\u001b[0m\u001b[0mb\u001b[0m\u001b[1;33m)\u001b[0m\u001b[1;33m,\u001b[0m\u001b[0maxis\u001b[0m\u001b[1;33m=\u001b[0m\u001b[1;36m1\u001b[0m\u001b[1;33m)\u001b[0m\u001b[1;33m\u001b[0m\u001b[1;33m\u001b[0m\u001b[0m\n",
      "\u001b[1;31mTypeError\u001b[0m: array() missing required argument 'object' (pos 1)"
     ]
    }
   ],
   "source": [
    "a = np.array([[1,2],[3,4]])\n",
    "b = np.array([[5,6]]).transpose()\n",
    "c=np.array(size=(1,2))\n",
    "np.concatenate((None,a,b),axis=1)"
   ]
  },
  {
   "cell_type": "code",
   "execution_count": 68,
   "metadata": {},
   "outputs": [
    {
     "name": "stdout",
     "output_type": "stream",
     "text": [
      "(100, 12)\n",
      "(100, 12)\n",
      "(100, 12)\n",
      "(100, 12)\n",
      "(100, 12)\n",
      "(100, 12)\n",
      "(100, 12)\n",
      "(100, 12)\n",
      "(100, 12)\n",
      "(100, 12)\n",
      "(59, 12)\n",
      "[['2020-10-19' '1' '\"refused to let my mother board a flight\"' ... False\n",
      "  1 'air-france']\n",
      " ['2020-10-15' '10' '\"I was very impressed\"' ... True 1 'air-france']\n",
      " ['2020-10-15' '2' '\"not allowed on board\"' ... False 1 'air-france']\n",
      " ...\n",
      " ['2008-12-10' '5' '\"very tight seat pitch\"' ... False 0 'air-france']\n",
      " ['2008-11-17' '1' '\"seats felt very cramped\"' ... False 0 'air-france']\n",
      " ['2008-09-29' '1' '\"would not recommend these seats\"' ... False 0\n",
      "  'air-france']]\n"
     ]
    }
   ],
   "source": [
    "def generate_dataset(airlines):\n",
    "    airlines_urls = get_url_airline(airlines)\n",
    "    \n",
    "    airline_data = None\n",
    "    for i, airline_url in enumerate(airlines_urls):\n",
    "        for url_in_airline in airline_url['airline']:\n",
    "            page_data = generate_page_reviews(url_in_airline)\n",
    "            print(page_data.shape)\n",
    "            is_airline_review = np.ones((len(page_data),1), dtype=np.int8) # Column is_airline_comment\n",
    "            airline_name = np.repeat([airlines[i].split('/')[-1]], len(page_data)).reshape((len(page_data),1))\n",
    "            page_data = np.concatenate((page_data, is_airline_review, airline_name), axis=1)\n",
    "            if airline_data is None:\n",
    "                airline_data = page_data\n",
    "            else:\n",
    "                airline_data = np.concatenate((airline_data, page_data))\n",
    "                \n",
    "        for url_in_airline in airline_url['seats']:\n",
    "            page_data = generate_page_reviews(url_in_airline)\n",
    "            is_airline_review = np.zeros((len(page_data),1), dtype=np.int8) # Column is_airline_comment\n",
    "            airline_name = np.repeat([airlines[i].split('/')[-1]], len(page_data)).reshape((len(page_data),1))\n",
    "            page_data = np.concatenate((page_data, is_airline_review, airline_name), axis=1)\n",
    "            if airline_data is None:\n",
    "                airline_data = page_data\n",
    "            else:\n",
    "                airline_data = np.concatenate((airline_data, page_data))\n",
    "                \n",
    "    return airline_data\n",
    "            \n",
    "print(generate_dataset([test[1]]))  "
   ]
  },
  {
   "cell_type": "code",
   "execution_count": 67,
   "metadata": {},
   "outputs": [
    {
     "data": {
      "text/plain": [
       "['/airline-reviews/ab-aviation', '/airline-reviews/air-france']"
      ]
     },
     "execution_count": 67,
     "metadata": {},
     "output_type": "execute_result"
    }
   ],
   "source": [
    "test"
   ]
  },
  {
   "cell_type": "code",
   "execution_count": 69,
   "metadata": {},
   "outputs": [
    {
     "name": "stdout",
     "output_type": "stream",
     "text": [
      "(3, 12)\n",
      "(100, 12)\n",
      "(100, 12)\n",
      "(100, 12)\n",
      "(100, 12)\n",
      "(100, 12)\n",
      "(100, 12)\n",
      "(100, 12)\n",
      "(100, 12)\n",
      "(100, 12)\n",
      "(100, 12)\n",
      "(59, 12)\n"
     ]
    }
   ],
   "source": [
    "data = generate_dataset(test)"
   ]
  },
  {
   "cell_type": "code",
   "execution_count": 84,
   "metadata": {},
   "outputs": [
    {
     "data": {
      "text/plain": [
       "array([\"Moroni to Moheli. Turned out to be a pretty decent airline. Online booking worked well, checkin and boarding was fine and the plane looked well maintained. Its a very short flight - just 20 minutes or so so i didn't expect much but they still managed to hand our a bottle of water and some biscuits which i though was very nice. Both flights on time.\",\n",
       "       'oroni to Anjouan. It is a very small airline. My ticket advised me to turn up at 0800hrs which I did. There was confusion at this small airport. I was then directed to the office of AB Aviation which was still closed. It opened at 0900hrs and I was told that the flight had been put back to 1300hrs and that they had tried to contact me. This could not be true as they did not have my phone number. I was with a local guide and he had not been informed either. I presume that I was bumped off. The later flight did operate but as usual, there was confusion at check-in. The flight was only 30mins and there were no further problems. Not a good airline but it is the only one for Comoros.',\n",
       "       'Anjouan to Dzaoudzi. A very small airline and the only airline based in Comoros. Check-in was disorganised because of locals with big packages and disinterested staff. The flight was fortunately short (30 mins). Took off on time and landed on time. With a short flight like there was of course no in-flight entertainment nor cabin service except for biscuits and a bottle of water, which was quite nice!',\n",
       "       ...,\n",
       "       'Very tight seat pitch for long haul travel and not recommended at all. If in economy try to obtain an exit row seat or seat 31K.',\n",
       "       'Seats felt very cramped - worst I\\'ve ever experienced. Who is the genius that decided to put in new thickly padded and sculpted seats (which push you closer to the seat in front) with the most recline I\\'ve ever seen in Economy but kept the seat pitch at 31-32\"? When the seat in front reclined the video screen was 8\" in front of my face and it is impossible to reach the floor or stand up for that matter. It is ridiculously tight unless you are under 5\\'6\".',\n",
       "       \"Not only would I not recommend these seats I will never fly on Air France again. I have never seen seats so close together. There was no leg room and I'm not a large person. As for the recline - the head of the passenger in front of me was practically in my lap.\"],\n",
       "      dtype=object)"
      ]
     },
     "execution_count": 84,
     "metadata": {},
     "output_type": "execute_result"
    }
   ],
   "source": [
    "data[:,4]"
   ]
  },
  {
   "cell_type": "code",
   "execution_count": 78,
   "metadata": {},
   "outputs": [],
   "source": [
    "np.savetxt('./airlines_data.csv', data, fmt='%s', encoding='utf-8', header = 'date_published@; \\\n",
    "                                                  global_ratings@;\\\n",
    "                                                  reviews_titles@;\\\n",
    "                                                  customers_countries@;\\\n",
    "                                                  reviews_body@;\\\n",
    "                                                  is_verified@;\\\n",
    "                                                  aircraft@;\\\n",
    "                                                  type_traveller@;\\\n",
    "                                                  seat_type@;\\\n",
    "                                                  route@;\\\n",
    "                                                  date_flown@;\\\n",
    "                                                  is_recommended@;\\\n",
    "                                                  is_airline_review@;\\\n",
    "                                                  airline_name', delimiter = \"@;\")"
   ]
  },
  {
   "cell_type": "code",
   "execution_count": 22,
   "metadata": {},
   "outputs": [
    {
     "name": "stdout",
     "output_type": "stream",
     "text": [
      "None\n",
      "ab-aviation\n"
     ]
    }
   ],
   "source": [
    "\n",
    "URL1 = 'https://www.airlinequality.com'\n",
    "dict_reviews={}\n",
    "for airline in airlines_ref:\n",
    "    new_url = URL1 + airline\n",
    "    new_page = requests.get(new_url)\n",
    "    new_soup = BeautifulSoup(new_page.content, 'html.parser')\n",
    "    \n",
    "    seat_content = new_soup.find('li', class_=[\"tabs-title seat\",\"tabs-title seat active\"])\n",
    "    print(seat_content)\n",
    "    print(airline.split('/')[-1])\n",
    "    if not(seat_content == None):\n",
    "     #   dict_reviews[airline.split('/')[-1]]=[]\n",
    "        \n",
    "      #  col_content = soup.find('div', class_='col-content'\n",
    "        \n",
    "        \n",
    "    break\n",
    "    \n",
    "    "
   ]
  },
  {
   "cell_type": "code",
   "execution_count": null,
   "metadata": {},
   "outputs": [],
   "source": []
  },
  {
   "cell_type": "code",
   "execution_count": 141,
   "metadata": {},
   "outputs": [],
   "source": [
    "airline='/airline-reviews/air-france'\n",
    "\n",
    "url2 = URL1 + airline\n",
    "new_page = requests.get(url2)\n",
    "new_soup = BeautifulSoup(new_page.content, 'html.parser')\n"
   ]
  },
  {
   "cell_type": "code",
   "execution_count": 158,
   "metadata": {},
   "outputs": [
    {
     "name": "stdout",
     "output_type": "stream",
     "text": [
      "{'air-france': [\"✅ Trip Verified |  The business class seat had plenty of room, and I liked that it was a pod-style (so I had decent privacy). My biggest complaint is the comfort when in bed mode it is very lumpy with the lumbar protruding into your back.  AF has invested a lot into these seats, and they could be great if they would only take the time to work on them a bit. A lay-flat bed that protrudes into your back is not OK. Tried using an extra blanket to make the bed more comfy but it didn't work. Please Air France, improve the comfort of the cushions for bed mode.\", '✅ Trip Verified |  I had done online check in for economy seats fairly forward but at boarding gate in paris they changed the seat to somewhere at the back where the planes width narrows. The seat was so small & rigid & once the guy in front of me reclined his seat i felt so claustrophobic. For the sake on entertainment in an 11hr plus flight which was further delayed by 2hrs was a tiny screen with little content & a malfunctioning headphone with audio only in one ear.  I did not have high expectations but this was the worst experience.', '✅ Trip Verified |  Lima to Paris on a Boeing 777-300. Once you enter the cabin you get thrown back into the 90s and not in a good way. The entertainment system is old with a couple of movies. The screen was barely bigger than my phone and with terrible quality, and you need to navigate using the bulky remotes. No plugs to charge the phone. The seats have almost no recline and are quite narrow. Worst part is that now Air France makes you pay to select certain seats (front section seats, emergency seats, etc.) and the price can go from 30 to 100 CHF the seat for 1 leg! Air France should be ashamed to offer such cabins at the same price as new cabins.', '✅ Trip Verified |  Paris and Amman, A320 business class seats were nothing but economy class seats with no difference between these two classes. No leg room, minimally reclinable, felt cramped and could not sleep. They separate economy class seats from business class seats by a curtain to label it as business class. Only relief was at least they provided business class service in terms of meals etc otherwise it could have been a disaster. ', 'Not Verified |  Flew from San Francisco to Paris with AF flight 82. The business class seat is very disappointing. I have flown with mulitple airlines business class and this is similar to what we had to endure about 10 years ago when the seats was \"angled flat\". when in full \"recline\" the seat feels like it is sliding downward. I usually can sleep on flat beds for 5-6 hrs comfortably but with this sleep was not possible. This made it the worst business class experience.', \"✅ Trip Verified |  This was the worst Business class long haul flight I have ever been on. I didn't even know that the long haul business class flights came with a 2x3x2 formation with reclining seatsinstead of beds. The seats do not lay flat so you slide down them when trying to sleep - not great for people with back problems. There is hardly any space between the chairs so you have strangers climbing over you every time they want to get up. It felt like Premium Economy seats for Business Class prices. I complained afterwards and have been completely ignored by Air France.\", '✅ Trip Verified |  Fantastic plane and service was friendly too. Recline was very nice, with a good thick footrest. Noise canceling headphones in premium economy, shell type seats that kept the seat in front from reclining into you and a very plush blanket made this almost like a business lite experience. Amenity kit with the anniversary logo comes in a few colors, contains toothbrush, sleep mask socks and earplugs. Inflight entertainment has a huge selection, large screen was responsive and looks new. Had trouble with the AC power port in my seat but the usb worked. Dinner was unremarkable but the foie gras starter was very good. Breakfast was delicious, scrambled eggs with spinach and herbs, very flavorful!', '✅ Trip Verified |  I can’t believe we paid extra for this Premium Economy seats on a vacation with my wife and flying NYC-JFK to Paris. The seats do not recline but just kind of slide forward a little. Essentially there is no functional recline and they are the most uncomfortable overnight seats I have ever flown on, including coach. And that is saying something because I fly a lot. We would have rather have tried the coach seats as they could not be worse. Very disappointed in these seats and the engineering is horrible. Not for nothing, but I remember way back in the day flying Air France in just coach and being very impressed by the coffee and food quality. In Premium Economy this time it tasted like instant powdered coffee.', '✅ Trip Verified |  I used to like flying with Air France but after this flight I will try to avoid them. They changed their seats to similar ones they have on short haul flights. They are bearable when you need to fly 1-2 hours during day time but not when it’s a 6 hours transatlantic night flight. I don’t even want to imagine what a 10 hours + flight feels on those seats. The people who designed those seats probably never even had the chance to sit on them because otherwise such seat would not be existing! Air France is better to go back to their old seats.', '✅ Trip Verified |  \\r\\nIt must have been new seats and they were very uncomfortable for a 11hrs flight. It doesn’t reclines and the leg rest only allows your calf muscles to rest. Just horrible and will be thinking twice now as flying economy might just save me money as the comfort is probably about the same!']}\n"
     ]
    }
   ],
   "source": [
    "seat_content = new_soup.find('li', class_=\"tab-title seat\")\n",
    "if not(seat_content == None):\n",
    "    dict_reviews[airline.split('/')[-1]]=[]\n",
    "    \n",
    "    url3 = URL1 + seat_content.find('a')['href'] +\n",
    "    page2 = requests.get(url3)\n",
    "    soup2 = BeautifulSoup(page2.content, 'html.parser')\n",
    "    \n",
    "    #col_content = soup2.find('div', id='container')\n",
    "    col_content = soup2.find('section', class_=\"layout-section layout-2 closer-top\")\n",
    "    col_content = col_content.find('div', class_='col-content')\n",
    "\n",
    "    #col_content = col_content.find('div', class_='layout-section layout-2 closer-top')\n",
    "\n",
    "    #col_content = col_content.find('article', class_=\"comp comp_reviews-airline querylist position-content \")\n",
    "    \n",
    "    review = col_content.find_all('div', class_=\"text_content\")\n",
    "    \n",
    "    for comment in review :\n",
    "        dict_reviews[airline.split('/')[-1]].append(comment.get_text())\n",
    "        \n",
    "print(dict_reviews)\n"
   ]
  },
  {
   "cell_type": "code",
   "execution_count": 152,
   "metadata": {},
   "outputs": [
    {
     "data": {
      "text/plain": [
       "10"
      ]
     },
     "execution_count": 152,
     "metadata": {},
     "output_type": "execute_result"
    }
   ],
   "source": [
    "len(review)"
   ]
  },
  {
   "cell_type": "code",
   "execution_count": 154,
   "metadata": {},
   "outputs": [
    {
     "data": {
      "text/plain": [
       "{'air-france': [None, None, None, None, None, None, None, None, None, None]}"
      ]
     },
     "execution_count": 154,
     "metadata": {},
     "output_type": "execute_result"
    }
   ],
   "source": [
    "dict_reviews"
   ]
  },
  {
   "cell_type": "code",
   "execution_count": null,
   "metadata": {},
   "outputs": [],
   "source": [
    "if not(seat_content == None):\n",
    "    dict_reviews[airline.split('/')[-1]]=[]\n",
    "\n",
    "    col_content = soup.find('div', class_='col-content')\n",
    "\n",
    "print(col_content)"
   ]
  }
 ],
 "metadata": {
  "kernelspec": {
   "display_name": "Python 3",
   "language": "python",
   "name": "python3"
  },
  "language_info": {
   "codemirror_mode": {
    "name": "ipython",
    "version": 3
   },
   "file_extension": ".py",
   "mimetype": "text/x-python",
   "name": "python",
   "nbconvert_exporter": "python",
   "pygments_lexer": "ipython3",
   "version": "3.8.3"
  }
 },
 "nbformat": 4,
 "nbformat_minor": 4
}
