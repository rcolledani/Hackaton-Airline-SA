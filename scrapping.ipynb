{
 "cells": [
  {
   "cell_type": "code",
   "execution_count": 7,
   "metadata": {},
   "outputs": [
    {
     "name": "stdout",
     "output_type": "stream",
     "text": [
      "Requirement already satisfied: requests in c:\\users\\theoc\\anaconda3\\lib\\site-packages (2.25.1)\n",
      "Requirement already satisfied: urllib3<1.27,>=1.21.1 in c:\\users\\theoc\\anaconda3\\lib\\site-packages (from requests) (1.26.2)\n",
      "Requirement already satisfied: chardet<5,>=3.0.2 in c:\\users\\theoc\\anaconda3\\lib\\site-packages (from requests) (4.0.0)\n",
      "Requirement already satisfied: certifi>=2017.4.17 in c:\\users\\theoc\\anaconda3\\lib\\site-packages (from requests) (2020.12.5)\n",
      "Requirement already satisfied: idna<3,>=2.5 in c:\\users\\theoc\\anaconda3\\lib\\site-packages (from requests) (2.10)\n",
      "Requirement already satisfied: Beautifulsoup4 in c:\\users\\theoc\\anaconda3\\lib\\site-packages (4.9.3)\n",
      "Requirement already satisfied: soupsieve>1.2 in c:\\users\\theoc\\anaconda3\\lib\\site-packages (from Beautifulsoup4) (2.1)\n"
     ]
    }
   ],
   "source": [
    "#!pip install requests\n",
    "#!pip3 install Beautifulsoup4"
   ]
  },
  {
   "cell_type": "code",
   "execution_count": 192,
   "metadata": {},
   "outputs": [],
   "source": [
    "import requests\n",
    "from bs4 import BeautifulSoup\n",
    "from math import *\n"
   ]
  },
  {
   "cell_type": "code",
   "execution_count": 2,
   "metadata": {},
   "outputs": [],
   "source": [
    "URL = 'https://www.airlinequality.com/review-pages/a-z-airline-reviews/'\n",
    "page = requests.get(URL)\n",
    "soup = BeautifulSoup(page.content, 'html.parser')"
   ]
  },
  {
   "cell_type": "code",
   "execution_count": 3,
   "metadata": {},
   "outputs": [],
   "source": [
    "tabs_content = soup.find('div', class_=\"tabs-content\")"
   ]
  },
  {
   "cell_type": "code",
   "execution_count": 5,
   "metadata": {},
   "outputs": [],
   "source": [
    "airlines_tag = tabs_content.find_all('li')"
   ]
  },
  {
   "cell_type": "code",
   "execution_count": 6,
   "metadata": {},
   "outputs": [],
   "source": [
    "#collect the different url for each airline company\n",
    "airlines_ref=[]\n",
    "for element in airlines_tag :\n",
    "    tag = element.find('a')\n",
    "    airlines_ref.append(tag['href'])\n",
    "    "
   ]
  },
  {
   "cell_type": "code",
   "execution_count": 160,
   "metadata": {},
   "outputs": [],
   "source": [
    "test = ['/airline-reviews/ab-aviation','/airline-reviews/air-france']"
   ]
  },
  {
   "cell_type": "code",
   "execution_count": 199,
   "metadata": {},
   "outputs": [
    {
     "data": {
      "text/plain": [
       "[[['https://www.airlinequality.com/airline-reviews/ab-aviation/?sortby=post_date%3ADesc&pagesize=100']],\n",
       " [['https://www.airlinequality.com/airline-reviews/air-france/page/1/?sortby=post_date%3ADesc&pagesize=100',\n",
       "   'https://www.airlinequality.com/airline-reviews/air-france/page/2/?sortby=post_date%3ADesc&pagesize=100',\n",
       "   'https://www.airlinequality.com/airline-reviews/air-france/page/3/?sortby=post_date%3ADesc&pagesize=100',\n",
       "   'https://www.airlinequality.com/airline-reviews/air-france/page/4/?sortby=post_date%3ADesc&pagesize=100',\n",
       "   'https://www.airlinequality.com/airline-reviews/air-france/page/5/?sortby=post_date%3ADesc&pagesize=100',\n",
       "   'https://www.airlinequality.com/airline-reviews/air-france/page/6/?sortby=post_date%3ADesc&pagesize=100',\n",
       "   'https://www.airlinequality.com/airline-reviews/air-france/page/7/?sortby=post_date%3ADesc&pagesize=100',\n",
       "   'https://www.airlinequality.com/airline-reviews/air-france/page/8/?sortby=post_date%3ADesc&pagesize=100',\n",
       "   'https://www.airlinequality.com/airline-reviews/air-france/page/9/?sortby=post_date%3ADesc&pagesize=100',\n",
       "   'https://www.airlinequality.com/airline-reviews/air-france/page/10/?sortby=post_date%3ADesc&pagesize=100',\n",
       "   'https://www.airlinequality.com/airline-reviews/air-france/page/11/?sortby=post_date%3ADesc&pagesize=100'],\n",
       "  ['https://www.airlinequality.com/seat-reviews/air-france/page/1/?sortby=post_date%3ADesc&pagesize=100',\n",
       "   'https://www.airlinequality.com/seat-reviews/air-france/page/2/?sortby=post_date%3ADesc&pagesize=100']]]"
      ]
     },
     "execution_count": 199,
     "metadata": {},
     "output_type": "execute_result"
    }
   ],
   "source": [
    "def get_url_airline(airlines):\n",
    "    \n",
    "    \"\"\"\n",
    "    Returns the sum of two decimal numbers in binary digits.\n",
    "\n",
    "    Parameters\n",
    "    ----------\n",
    "    airlines (list): A list of airlines reference needed, ex : '/airline-reviews/ab-aviation'\n",
    "\n",
    "    Returns\n",
    "    -------\n",
    "    A list of all url reviews linked to the companies needed   \n",
    "    \"\"\"\n",
    "    \n",
    "    URL = 'https://www.airlinequality.com'\n",
    "    \n",
    "    total_url=[]\n",
    "    \n",
    "    for airline in airlines :\n",
    "        \n",
    "        url_company =[]\n",
    "        url = URL + airline\n",
    "        page = requests.get(url)\n",
    "        soup = BeautifulSoup(page.content, 'html.parser')\n",
    "        \n",
    "        #Test if onglet seat and airline\n",
    "        seat_content = soup.find('li', class_=[\"tab-title seat\",\"tab-title seat active\"])\n",
    "        airline_content = soup.find('li', class_=[\"tab-title airline\",\"tab-title airline active\"])\n",
    "        \n",
    "        if not(airline_content == None):\n",
    "            ref_airline = airline_content.find('a')['href']\n",
    "            new_url = URL + ref_airline + '/?sortby=post_date%3ADesc&pagesize=100'\n",
    "            new_page = requests.get(new_url)\n",
    "            new_soup = BeautifulSoup(new_page.content, 'html.parser')\n",
    "            \n",
    "            test_page=new_soup.find(\n",
    "                    'article',class_=\"comp comp_reviews-pagination querylist-pagination position-\")\n",
    "            \n",
    "            airline_url = []\n",
    "            if not(test_page == None):\n",
    "                query_page = new_soup.find('div', class_='pagination-total').get_text()\n",
    "                \n",
    "                if not(query_page ==None):\n",
    "                    number_review = int(query_page.split(\" \")[-2])\n",
    "                    number_page = ceil(number_review/100)\n",
    "\n",
    "                    for i in range(number_page) :\n",
    "                        url = URL + ref_airline + '/page/'+ str(i+1) + '/?sortby=post_date%3ADesc&pagesize=100'\n",
    "                        if url not in airline_url:\n",
    "                            airline_url.append(url)\n",
    "                        \n",
    "            else : airline_url.append(new_url) #only one page\n",
    "        \n",
    "            url_company.append(airline_url)\n",
    "\n",
    "        if not(seat_content == None):\n",
    "            ref_seat = seat_content.find('a')['href']\n",
    "            new_url = URL + ref_seat + '/?sortby=post_date%3ADesc&pagesize=100'\n",
    "            new_page = requests.get(new_url)\n",
    "            new_soup = BeautifulSoup(new_page.content, 'html.parser')\n",
    "            \n",
    "            test_page=new_soup.find(\n",
    "                    'article',class_=\"comp comp_reviews-pagination querylist-pagination position-\")\n",
    "            \n",
    "            seat_url = []\n",
    "            if not(test_page == None):\n",
    "                query_page = new_soup.find('div', class_='pagination-total').get_text()\n",
    "                \n",
    "                if not(query_page ==None):\n",
    "                    number_review = int(query_page.split(\" \")[-2])\n",
    "                    number_page = ceil(number_review/100)\n",
    "\n",
    "                    for i in range(number_page) :\n",
    "                        url = URL + ref_seat + '/page/'+ str(i+1) + '/?sortby=post_date%3ADesc&pagesize=100'\n",
    "                        if url not in seat_url:\n",
    "                            seat_url.append(url)\n",
    "                        \n",
    "            else : seat_url.append(new_url) # only one page\n",
    "                \n",
    "            url_company.append(seat_url)\n",
    "            \n",
    "        total_url.append(url_company)\n",
    "    return total_url\n",
    "\n",
    "get_url_airline(test)"
   ]
  },
  {
   "cell_type": "code",
   "execution_count": 22,
   "metadata": {},
   "outputs": [
    {
     "name": "stdout",
     "output_type": "stream",
     "text": [
      "None\n",
      "ab-aviation\n"
     ]
    }
   ],
   "source": [
    "\n",
    "URL1 = 'https://www.airlinequality.com'\n",
    "dict_reviews={}\n",
    "for airline in airlines_ref:\n",
    "    new_url = URL1 + airline\n",
    "    new_page = requests.get(new_url)\n",
    "    new_soup = BeautifulSoup(new_page.content, 'html.parser')\n",
    "    \n",
    "    seat_content = new_soup.find('li', class_=[\"tabs-title seat\",\"tabs-title seat active\"])\n",
    "    print(seat_content)\n",
    "    print(airline.split('/')[-1])\n",
    "    if not(seat_content == None):\n",
    "     #   dict_reviews[airline.split('/')[-1]]=[]\n",
    "        \n",
    "      #  col_content = soup.find('div', class_='col-content'\n",
    "        \n",
    "        \n",
    "    break\n",
    "    \n",
    "    "
   ]
  },
  {
   "cell_type": "code",
   "execution_count": null,
   "metadata": {},
   "outputs": [],
   "source": []
  },
  {
   "cell_type": "code",
   "execution_count": 141,
   "metadata": {},
   "outputs": [],
   "source": [
    "airline='/airline-reviews/air-france'\n",
    "\n",
    "url2 = URL1 + airline\n",
    "new_page = requests.get(url2)\n",
    "new_soup = BeautifulSoup(new_page.content, 'html.parser')\n"
   ]
  },
  {
   "cell_type": "code",
   "execution_count": 158,
   "metadata": {},
   "outputs": [
    {
     "name": "stdout",
     "output_type": "stream",
     "text": [
      "{'air-france': [\"✅ Trip Verified |  The business class seat had plenty of room, and I liked that it was a pod-style (so I had decent privacy). My biggest complaint is the comfort when in bed mode it is very lumpy with the lumbar protruding into your back.  AF has invested a lot into these seats, and they could be great if they would only take the time to work on them a bit. A lay-flat bed that protrudes into your back is not OK. Tried using an extra blanket to make the bed more comfy but it didn't work. Please Air France, improve the comfort of the cushions for bed mode.\", '✅ Trip Verified |  I had done online check in for economy seats fairly forward but at boarding gate in paris they changed the seat to somewhere at the back where the planes width narrows. The seat was so small & rigid & once the guy in front of me reclined his seat i felt so claustrophobic. For the sake on entertainment in an 11hr plus flight which was further delayed by 2hrs was a tiny screen with little content & a malfunctioning headphone with audio only in one ear.  I did not have high expectations but this was the worst experience.', '✅ Trip Verified |  Lima to Paris on a Boeing 777-300. Once you enter the cabin you get thrown back into the 90s and not in a good way. The entertainment system is old with a couple of movies. The screen was barely bigger than my phone and with terrible quality, and you need to navigate using the bulky remotes. No plugs to charge the phone. The seats have almost no recline and are quite narrow. Worst part is that now Air France makes you pay to select certain seats (front section seats, emergency seats, etc.) and the price can go from 30 to 100 CHF the seat for 1 leg! Air France should be ashamed to offer such cabins at the same price as new cabins.', '✅ Trip Verified |  Paris and Amman, A320 business class seats were nothing but economy class seats with no difference between these two classes. No leg room, minimally reclinable, felt cramped and could not sleep. They separate economy class seats from business class seats by a curtain to label it as business class. Only relief was at least they provided business class service in terms of meals etc otherwise it could have been a disaster. ', 'Not Verified |  Flew from San Francisco to Paris with AF flight 82. The business class seat is very disappointing. I have flown with mulitple airlines business class and this is similar to what we had to endure about 10 years ago when the seats was \"angled flat\". when in full \"recline\" the seat feels like it is sliding downward. I usually can sleep on flat beds for 5-6 hrs comfortably but with this sleep was not possible. This made it the worst business class experience.', \"✅ Trip Verified |  This was the worst Business class long haul flight I have ever been on. I didn't even know that the long haul business class flights came with a 2x3x2 formation with reclining seatsinstead of beds. The seats do not lay flat so you slide down them when trying to sleep - not great for people with back problems. There is hardly any space between the chairs so you have strangers climbing over you every time they want to get up. It felt like Premium Economy seats for Business Class prices. I complained afterwards and have been completely ignored by Air France.\", '✅ Trip Verified |  Fantastic plane and service was friendly too. Recline was very nice, with a good thick footrest. Noise canceling headphones in premium economy, shell type seats that kept the seat in front from reclining into you and a very plush blanket made this almost like a business lite experience. Amenity kit with the anniversary logo comes in a few colors, contains toothbrush, sleep mask socks and earplugs. Inflight entertainment has a huge selection, large screen was responsive and looks new. Had trouble with the AC power port in my seat but the usb worked. Dinner was unremarkable but the foie gras starter was very good. Breakfast was delicious, scrambled eggs with spinach and herbs, very flavorful!', '✅ Trip Verified |  I can’t believe we paid extra for this Premium Economy seats on a vacation with my wife and flying NYC-JFK to Paris. The seats do not recline but just kind of slide forward a little. Essentially there is no functional recline and they are the most uncomfortable overnight seats I have ever flown on, including coach. And that is saying something because I fly a lot. We would have rather have tried the coach seats as they could not be worse. Very disappointed in these seats and the engineering is horrible. Not for nothing, but I remember way back in the day flying Air France in just coach and being very impressed by the coffee and food quality. In Premium Economy this time it tasted like instant powdered coffee.', '✅ Trip Verified |  I used to like flying with Air France but after this flight I will try to avoid them. They changed their seats to similar ones they have on short haul flights. They are bearable when you need to fly 1-2 hours during day time but not when it’s a 6 hours transatlantic night flight. I don’t even want to imagine what a 10 hours + flight feels on those seats. The people who designed those seats probably never even had the chance to sit on them because otherwise such seat would not be existing! Air France is better to go back to their old seats.', '✅ Trip Verified |  \\r\\nIt must have been new seats and they were very uncomfortable for a 11hrs flight. It doesn’t reclines and the leg rest only allows your calf muscles to rest. Just horrible and will be thinking twice now as flying economy might just save me money as the comfort is probably about the same!']}\n"
     ]
    }
   ],
   "source": [
    "seat_content = new_soup.find('li', class_=\"tab-title seat\")\n",
    "if not(seat_content == None):\n",
    "    dict_reviews[airline.split('/')[-1]]=[]\n",
    "    \n",
    "    url3 = URL1 + seat_content.find('a')['href'] +\n",
    "    page2 = requests.get(url3)\n",
    "    soup2 = BeautifulSoup(page2.content, 'html.parser')\n",
    "    \n",
    "    #col_content = soup2.find('div', id='container')\n",
    "    col_content = soup2.find('section', class_=\"layout-section layout-2 closer-top\")\n",
    "    col_content = col_content.find('div', class_='col-content')\n",
    "\n",
    "    #col_content = col_content.find('div', class_='layout-section layout-2 closer-top')\n",
    "\n",
    "    #col_content = col_content.find('article', class_=\"comp comp_reviews-airline querylist position-content \")\n",
    "    \n",
    "    review = col_content.find_all('div', class_=\"text_content\")\n",
    "    \n",
    "    for comment in review :\n",
    "        dict_reviews[airline.split('/')[-1]].append(comment.get_text())\n",
    "        \n",
    "print(dict_reviews)\n"
   ]
  },
  {
   "cell_type": "code",
   "execution_count": 152,
   "metadata": {},
   "outputs": [
    {
     "data": {
      "text/plain": [
       "10"
      ]
     },
     "execution_count": 152,
     "metadata": {},
     "output_type": "execute_result"
    }
   ],
   "source": [
    "len(review)"
   ]
  },
  {
   "cell_type": "code",
   "execution_count": 154,
   "metadata": {},
   "outputs": [
    {
     "data": {
      "text/plain": [
       "{'air-france': [None, None, None, None, None, None, None, None, None, None]}"
      ]
     },
     "execution_count": 154,
     "metadata": {},
     "output_type": "execute_result"
    }
   ],
   "source": [
    "dict_reviews"
   ]
  },
  {
   "cell_type": "code",
   "execution_count": null,
   "metadata": {},
   "outputs": [],
   "source": [
    "if not(seat_content == None):\n",
    "    dict_reviews[airline.split('/')[-1]]=[]\n",
    "\n",
    "    col_content = soup.find('div', class_='col-content')\n",
    "\n",
    "print(col_content)"
   ]
  }
 ],
 "metadata": {
  "kernelspec": {
   "display_name": "Python 3",
   "language": "python",
   "name": "python3"
  },
  "language_info": {
   "codemirror_mode": {
    "name": "ipython",
    "version": 3
   },
   "file_extension": ".py",
   "mimetype": "text/x-python",
   "name": "python",
   "nbconvert_exporter": "python",
   "pygments_lexer": "ipython3",
   "version": "3.8.3"
  }
 },
 "nbformat": 4,
 "nbformat_minor": 4
}
