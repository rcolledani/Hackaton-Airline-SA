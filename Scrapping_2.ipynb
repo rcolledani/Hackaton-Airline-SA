{
 "cells": [
  {
   "cell_type": "code",
   "execution_count": 1,
   "metadata": {},
   "outputs": [
    {
     "name": "stdout",
     "output_type": "stream",
     "text": [
      "Requirement already satisfied: requests in c:\\users\\youss\\anaconda3\\lib\\site-packages (2.25.1)\n",
      "Requirement already satisfied: certifi>=2017.4.17 in c:\\users\\youss\\anaconda3\\lib\\site-packages (from requests) (2020.12.5)\n",
      "Requirement already satisfied: idna<3,>=2.5 in c:\\users\\youss\\anaconda3\\lib\\site-packages (from requests) (2.10)\n",
      "Requirement already satisfied: chardet<5,>=3.0.2 in c:\\users\\youss\\anaconda3\\lib\\site-packages (from requests) (3.0.4)\n",
      "Requirement already satisfied: urllib3<1.27,>=1.21.1 in c:\\users\\youss\\anaconda3\\lib\\site-packages (from requests) (1.26.3)\n",
      "Requirement already satisfied: Beautifulsoup4 in c:\\users\\youss\\anaconda3\\lib\\site-packages (4.9.3)\n",
      "Requirement already satisfied: soupsieve>1.2; python_version >= \"3.0\" in c:\\users\\youss\\anaconda3\\lib\\site-packages (from Beautifulsoup4) (2.0.1)\n"
     ]
    }
   ],
   "source": [
    "!pip install requests\n",
    "!pip3 install Beautifulsoup4"
   ]
  },
  {
   "cell_type": "code",
   "execution_count": 26,
   "metadata": {},
   "outputs": [],
   "source": [
    "import requests\n",
    "from bs4 import BeautifulSoup\n",
    "import re"
   ]
  },
  {
   "cell_type": "code",
   "execution_count": 3,
   "metadata": {},
   "outputs": [],
   "source": [
    "URL = 'https://www.airlinequality.com/airline-reviews/air-france/'\n",
    "page = requests.get(URL)\n",
    "soup = BeautifulSoup(page.content, 'html.parser')"
   ]
  },
  {
   "cell_type": "code",
   "execution_count": 16,
   "metadata": {},
   "outputs": [],
   "source": [
    "# Get the list of reviews in the page\n",
    "reviews = soup.find_all('article', itemprop='review')"
   ]
  },
  {
   "cell_type": "code",
   "execution_count": null,
   "metadata": {},
   "outputs": [],
   "source": [
    "# Get list of publication dates\n",
    "dates_published = []\n",
    "for review in reviews:\n",
    "    dates_published.append(review.find('meta', itemprop='datePublished')['content'])"
   ]
  },
  {
   "cell_type": "code",
   "execution_count": 22,
   "metadata": {},
   "outputs": [],
   "source": [
    "# Get list of global ratings\n",
    "global_ratings = []\n",
    "for review in reviews:\n",
    "    global_ratings.append(review.find('span', itemprop='ratingValue').text)"
   ]
  },
  {
   "cell_type": "code",
   "execution_count": 24,
   "metadata": {},
   "outputs": [
    {
     "name": "stdout",
     "output_type": "stream",
     "text": [
      "['refused to let my mother board a flight', 'I was very impressed', 'not allowed on board', 'never fly with Air France again', 'I will have to wait for 3 months', 'Air France can do much better on the food', 'service was extremely nice and polite', 'They will check your bag weight', 'no excuse for this horrible service', 'inflight service was good']\n"
     ]
    }
   ],
   "source": [
    "# Get reviews' titles\n",
    "reviews_titles = []\n",
    "for review in reviews:\n",
    "    reviews_titles.append(review.find('h2', class_='text_header').text[1:-1])\n",
    "print(reviews_titles)"
   ]
  },
  {
   "cell_type": "code",
   "execution_count": 33,
   "metadata": {},
   "outputs": [
    {
     "name": "stdout",
     "output_type": "stream",
     "text": [
      "['United States', 'Spain', 'United States', 'United States', 'Denmark', 'Brazil', 'Portugal', 'Colombia', 'United States', 'Greece']\n"
     ]
    }
   ],
   "source": [
    "# Get country of customers\n",
    "customers_countries = []\n",
    "for review in reviews:\n",
    "    temp = review.find('h3', class_='text_sub_header userStatusWrapper').text\n",
    "    country = re.search('\\((.*)\\)', temp)\n",
    "    customers_countries.append(country.group(1))\n",
    "print(customers_countries)"
   ]
  },
  {
   "cell_type": "code",
   "execution_count": 42,
   "metadata": {},
   "outputs": [
    {
     "name": "stdout",
     "output_type": "stream",
     "text": [
      "On 10/03 Air France employees refused to let my mother board a flight from Nairobi to Atlanta via Paris. She requested that the employees at the airport to cancel and reimburse the full ticket fee and I also called customer care to help resolve this issue. However, we have not gotten a full refund of my cancel ticket. This airline allowed passengers to purchase airfare tickets three days to travel day with a layover in Paris, France without warning that passengers travelling to America will not be allowed in Europe. Upon arrival at the airport, they refused we board the flight to Atlanta, GA. Customer service was extremely rude, I was on hold for at least 2 hours trying to reschedule my flight or get a refund - none of which happened. If laying over in Pairs, France they will require you to get a mandatory visitor visa.\n",
      "--------------------------------\n",
      "I was very impressed with the way the Air France staff handled everything, from my departure in Barcelona to landing in Mumbai. We experienced bad luck with the weather, we were going to land in Mumbai before time but there was a storm and we had to divert to Bangalore and refuel before we could head to Mumbai when the weather got better. Overall the experience was so bad, but you could not get frustrated at the airline because they were so understanding and reassuring. While we had an additional 5 hours of just sitting around and waiting, they had to do extra hours of very hard work dealing with frustrated passengers! Just wanted to leave a positive review for how polite the flight attendants were, how much they smiled and looked after me!\n",
      "--------------------------------\n",
      "When buying tickets Istanbul to Cancun via Paris there was a warning about the documents to enter Mexico. In fact, they were not allowed on board, because there was no transit visa. How was I supposed to find out about this? in the end, the money was not returned, no other options were offered, I had to fly with another airline.  I understand that this is a problem of the government, and not the airline, but why did I find out about this only when checking in?!\n",
      "--------------------------------\n",
      "I purchased a ticket from Los Angeles to Tunis with a connecting flight in Paris. The security that allows people to board did not allow me to fly. I presented her with all the documentation needed to fly to enter Tunis.  They claimed that I they would not let me fly because I’m American, and these are circumstances of covid 19, and I had to purchase a ticket. I wound up flying to Turkey where I had no problem flying to Tunis. Air France allowed me to fly from Los Angeles to Paris and then did not allow me to fly to Tunis?  My ticket to Tunis also had a returning flight back to the US which they canceled. I spoke with the manager in the Paris airport and she told me to figure out how I’m going to get home. Air France also managed to lose my luggage. Up until now I have only gotten one of the two luggage. The entire experience was a complete nightmare I will never fly with Air France again.\n",
      "--------------------------------\n",
      "I had a very bad experience with this company. Booked a flight and had to cancel - cancelled within 1 hour from booking - was promised I would get a refund within 24h but never received any refund. After more than a month and at least 20 calls to customer service later, I received 280 dkk instead of 284.93 euro that i paid for the tickets. This equals 38 euros out of the total of 284.93 euro! After this I called the customer service about 10 times and each time had to explain what happened and each time I was promised they would correct it yet it took me 10 phone calls to have a case created and after that i have not heard anything for a month. Today I called again and was promised the agent would follow up and call me today - noone called hence I called again. I was transferred to another department that never answered the phone hence I called again and the lady could not even send me an email stating when I would get the remaining of my money back. She only said that she thinks that I will have to wait for 3 more weeks which means after more than 2 months of waiting for a reimbursement that was supposed to be executed within 24h - in best case scenario I will have to wait for 3 months. I was a happy AF customer but now with this bad customer service, I will go elsewhere.\n",
      "--------------------------------\n",
      "o I am one of the old farts that loves flying in the old 747 and 767s. However it is difficult to be unimpressed by the A350. Air France's set up is attractive, this aircraft looked very new indeed and was very nicely presented. New economy seats are all uncomfortable in my experience and this was no exception. I had 3 seats to myself so I was very comfortable but had I been in a full plane this would have been a long 11 hours indeed. The seat is pretty hard, the legroom is not bad for the class, one of the benefits of hard seats is their shape seems to generate a bit more space for the person behind. Entertainment system is good but not brilliant like Emirates system. I think you need to download an app before flying to access their wifi. The food was really disappointing. Pasta in a tomato sauce with a grain salad. I know Air France has meals available for purchase prior to flying, it would seem they are trying to push people in that direction as the free option was pretty poor. Staff we generally good, one steward hassled me for not wearing a mask at a time I was drinking water, really annoying but generally the staff were nice. Flying conditions were grim but the A350 skipped above the trouble at 40000 feet, it was bouncy but less modern aircraft would have been all over the place. I am being persuaded by the new kids on the block! All in all decent flight, price was good but Air France can do much better on the food.\n",
      "--------------------------------\n",
      "here was a possible delay with the first leg but information was provided all the time. The service was extremely nice and polite. The aircrafts were comfortable but have some dust on the side of the seats by the windows. There was complementary basic wifi on the second leg.\n",
      "--------------------------------\n",
      "If your 2 pieces allowed (1 carry on + extra) weigh more than 12kg you will be charge 45 euros. They will check your bag weight on terminal 2f before security check there is a lady there. My bag was carry on 10.2 kg and extra bag was 4kg ( my laptop is heavy) a 45 euro charge.\n",
      "--------------------------------\n",
      "In the least crowded time of traveling the airline lost my baggage (1 suitcase). It has been 2 days now that I am in Paris and I have been given 3 different stories as to where my suitcase is, the first one said it arrived on at 9.42am just an hour after my flight arrived, another earlier today said it arrived 11am. The last customer service person, said that my suitcase is on the way, then I asked to speak to a manager she said she doesn't have one and replied \"you're talking to me, sir\" before hanging up. Behold! This is how you are treated by this company, they loose your baggage and take no accountability and just outright lie to you without remorse. I will no longer be relying on Air France for any of my travels. There is no excuse for this horrible service as at this point the Covid pandemic is nothing new and the airline can't blame the loss of my baggage for having an elevated number of travelers/passengers flying. It is now Tuesday evening in Paris and I'm leaving back to NY on Monday. I wonder if I will even have my suitcase by then. Don't waist your money on Air France.\n",
      "--------------------------------\n",
      "Marseilles to Athens. Even during covid-19 their inflight service was good, they offer beer or wine or spirit. Announcements were on French, English and Greek. The A320 was ok with sufficient legroom.\n",
      "--------------------------------\n"
     ]
    }
   ],
   "source": [
    "# Get reviews' titles\n",
    "reviews_body = []\n",
    "for review in reviews:\n",
    "    review_body = review.find('div', class_='text_content').text.split(\"|\",1)[1][2:] \n",
    "    reviews_body.append(review_body)\n",
    "for review_body in reviews_body:\n",
    "    print(review_body)\n",
    "    print(\"--------------------------------\")"
   ]
  },
  {
   "cell_type": "code",
   "execution_count": 44,
   "metadata": {},
   "outputs": [
    {
     "name": "stdout",
     "output_type": "stream",
     "text": [
      "[True, True, True, True, True, True, True, True, True, True]\n"
     ]
    }
   ],
   "source": [
    "# Get boolean variable verified titles\n",
    "is_verified = []\n",
    "for review in reviews:\n",
    "    if review.find('div', class_='text_content').find('em').text == 'Trip Verified':\n",
    "        is_verified.append(True)\n",
    "    else:\n",
    "        is_verified.append(False)\n",
    "print(is_verified)"
   ]
  },
  {
   "cell_type": "code",
   "execution_count": 67,
   "metadata": {},
   "outputs": [
    {
     "name": "stdout",
     "output_type": "stream",
     "text": [
      "['MBM4YR', 'A350', None, None, None, 'A350', None, None, 'Boeing 777-300', 'A320']\n",
      "['Business', 'Solo Leisure', 'Solo Leisure', 'Solo Leisure', 'Solo Leisure', 'Business', 'Solo Leisure', 'Solo Leisure', 'Solo Leisure', 'Couple Leisure']\n",
      "['Economy Class', 'Economy Class', 'Economy Class', 'Economy Class', 'Economy Class', 'Economy Class', 'Economy Class', 'Economy Class', 'Business Class', 'Economy Class']\n",
      "['Nairobi to Atlanta via Paris ', 'Barcelona to Mumbai via Paris', 'Istanbul to Cancun via Paris', 'Los Angeles to Tunis via Paris', 'Copenhagen to Toulouse via Paris', 'Paris CDG to Sao Paulo', 'Zagreb to Lisbon via Paris CDG', 'Paris to Barcelona', 'New York JFK to Paris CDG', 'Marseilles to Athens']\n",
      "['October 2020', 'October 2020', 'October 2020', 'August 2020', 'August 2020', 'October 2020', 'September 2020', 'September 2020', 'September 2020', 'August 2020']\n",
      "[False, True, False, False, False, True, True, False, False, True]\n"
     ]
    }
   ],
   "source": [
    "# Get aircraft, Type of traveller, Seat type, Route, date Flown, Seat comfort,\n",
    "#     cabin staff service, Food & Beverages, Inflight Entertainment, Ground Service, Wifi & Connectivity,\n",
    "#     Value For Money, Recommended\n",
    "aircraft = []\n",
    "type_traveller = []\n",
    "seat_type = []\n",
    "route = []\n",
    "date_flown = []\n",
    "seat_comfort = []\n",
    "cabin_staff_service = []\n",
    "food_beverages = []\n",
    "inflight_entertainment = []\n",
    "ground_service = [] \n",
    "wifi_connectivity = []\n",
    "value_for_money = []\n",
    "is_recommended = []\n",
    "\n",
    "for i, review in enumerate(reviews):\n",
    "    review_ratings = review.find_all('tr')\n",
    "    for rating in review_ratings:\n",
    "        # Aircraft\n",
    "        if rating.find('td', class_='review-rating-header aircraft') is not None:\n",
    "            aircraft.append(rating.find('td', class_='review-value').text)\n",
    "        # Traveller type\n",
    "        if rating.find('td', class_='review-rating-header type_of_traveller') is not None:\n",
    "            type_traveller.append(rating.find('td', class_='review-value').text)\n",
    "        # Seat type\n",
    "        if rating.find('td', class_='review-rating-header cabin_flown') is not None:\n",
    "            seat_type.append(rating.find('td', class_='review-value').text)\n",
    "        # Route\n",
    "        if rating.find('td', class_='review-rating-header route') is not None:\n",
    "            route.append(rating.find('td', class_='review-value').text)\n",
    "        # Date flown\n",
    "        if rating.find('td', class_='review-rating-header date_flown') is not None:\n",
    "            date_flown.append(rating.find('td', class_='review-value').text)\n",
    "        '''# Seat comfort\n",
    "        if rating.find('td', class_='review-rating-header seat_comfort') is not None:\n",
    "            seat_comfort.append(rating.find('td', class_='review-value').text)\n",
    "        # Cabin staff service\n",
    "        if rating.find('td', class_='review-rating-header cabin_staff_service') is not None:\n",
    "            cabin_staff_service.append(rating.find('td', class_='review-value').text)\n",
    "        # Food and beverages\n",
    "        if rating.find('td', class_='review-rating-header food_and_beverages') is not None:\n",
    "            food_beverages.append(rating.find('td', class_='review-value').text)'''\n",
    "        # Is recommended\n",
    "        if rating.find('td', class_='review-rating-header recommended') is not None:\n",
    "            temp = rating.find_all('td')[1].text\n",
    "            if temp == \"yes\": \n",
    "                is_recommended.append(True)\n",
    "            else: \n",
    "                is_recommended.append(False)\n",
    "                \n",
    "        \n",
    "            \n",
    "    if len(aircraft) != i+1: aircraft.append(None)\n",
    "    if len(type_traveller) != i+1: type_traveller.append(None)\n",
    "    if len(seat_type) != i+1: seat_type.append(None)\n",
    "    if len(route) != i+1: route.append(None)\n",
    "    if len(date_flown) != i+1: date_flown.append(None)\n",
    "    if len(seat_comfort) != i+1: seat_comfort.append(None)\n",
    "    if len(cabin_staff_service) != i+1: cabin_staff_service.append(None)\n",
    "    if len(food_beverages) != i+1: food_beverages.append(None)\n",
    "    if len(is_recommended) != i+1: is_recommended.append(None)\n",
    "        \n",
    "print(aircraft)\n",
    "print(type_traveller)\n",
    "print(seat_type)\n",
    "print(route)\n",
    "print(date_flown)\n",
    "print(is_recommended)"
   ]
  }
 ],
 "metadata": {
  "kernelspec": {
   "display_name": "Python 3",
   "language": "python",
   "name": "python3"
  },
  "language_info": {
   "codemirror_mode": {
    "name": "ipython",
    "version": 3
   },
   "file_extension": ".py",
   "mimetype": "text/x-python",
   "name": "python",
   "nbconvert_exporter": "python",
   "pygments_lexer": "ipython3",
   "version": "3.8.3"
  }
 },
 "nbformat": 4,
 "nbformat_minor": 4
}
